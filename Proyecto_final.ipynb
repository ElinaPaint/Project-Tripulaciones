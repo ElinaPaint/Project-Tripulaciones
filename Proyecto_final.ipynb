{
 "cells": [
  {
   "cell_type": "markdown",
   "metadata": {},
   "source": [
    "\n",
    "<img src=\"img/Logotipo_Colegio_Administradores.png\" alt=\"Logo\" width=\"600px\" height=\"auto\" />\n"
   ]
  },
  {
   "cell_type": "markdown",
   "metadata": {},
   "source": [
    "# Introduction\n",
    "\n",
    "In this project, we will collaborate with diverse teams, including UX and Full-Stack, to create a web app for the Colegio de Administradores de Valencia in Valencia. The primary objective is to facilitate seamless information sharing, fostering connections between administrators and neighbors for the benefit of the entire community. They depend on us to address specific needs, and they also welcome additional improvements that we will consider along the way. "
   ]
  },
  {
   "cell_type": "markdown",
   "metadata": {},
   "source": [
    "# Table of Contents\n",
    "\n",
    "\n",
    "1. [Chapter 1 - Defining the Problem](#ch3)\n",
    "\n",
    "2. [Chapter 2 - Designing the functions and testing](#ch4)\n",
    "\n",
    "3. [Chapter 3 - Creating the app in Flask](#ch5)\n",
    "\n",
    "4. [Chapter 4 - API Testing](#ch6)"
   ]
  },
  {
   "cell_type": "markdown",
   "metadata": {},
   "source": [
    "<a id=\"ch3\"></a>\n",
    "# 1. Defining the Problem\n",
    "\n"
   ]
  },
  {
   "cell_type": "markdown",
   "metadata": {},
   "source": [
    "As the data science team, our assigned task is to create a calculator. This tool will be used to estimate the amount of money neighbors will pay in the next years for future expenses."
   ]
  },
  {
   "cell_type": "markdown",
   "metadata": {},
   "source": [
    "We have developed two calculators with specific purposes: one for determining the required savings to reach a financial goal and the other for calculating the increased monthly payment needed to cover particular expenses. These calculators provide a comprehensive solution for effective financial management, offering precision and efficiency in planning and achieving economic objectives."
   ]
  },
  {
   "cell_type": "markdown",
   "metadata": {},
   "source": [
    "<a id=\"ch4\"></a>\n",
    "# 2. Designing the functions and testing"
   ]
  },
  {
   "cell_type": "markdown",
   "metadata": {},
   "source": [
    "### 2.1 Import Libraries "
   ]
  },
  {
   "cell_type": "code",
   "execution_count": 1,
   "metadata": {},
   "outputs": [],
   "source": [
    "from flask import Flask, request, jsonify\n",
    "import math\n",
    "from flask_cors import CORS"
   ]
  },
  {
   "cell_type": "markdown",
   "metadata": {},
   "source": [
    "### 2.2 Building the functions"
   ]
  },
  {
   "cell_type": "markdown",
   "metadata": {},
   "source": [
    "Function to calculate total dues based on multiple periods and variables:"
   ]
  },
  {
   "cell_type": "code",
   "execution_count": null,
   "metadata": {},
   "outputs": [],
   "source": [
    "def calculo_prev(*tuplas, n_propie, cuota):\n",
    "    # Sorting tuples by the first element of each\n",
    "    tuplas = sorted(tuplas, key=lambda x: x[0])\n",
    "\n",
    "    # Creating a list of lists to separate elements of the tuples\n",
    "    variables = [[] for _ in range(len(tuplas))]\n",
    "\n",
    "    # Iterating over elements of the tuples and distributing them into 'variables'\n",
    "    for i in range(len(tuplas[0])):\n",
    "        valores = [t[i] for t in tuplas]\n",
    "        for j, valor in enumerate(valores):\n",
    "            variables[j].append(valor)\n",
    "\n",
    "    # Calculating total months and periods from the variables\n",
    "    total_meses = 0\n",
    "    periodos = []\n",
    "    for var in variables:\n",
    "        periodos.append(var[0])\n",
    "        if var[0] > total_meses:\n",
    "            total_meses = var[0]\n",
    "\n",
    "    # Calculating expense per month for each period\n",
    "    gasto_x_mes = []\n",
    "    suple_var = 0\n",
    "    for i in range(total_meses):\n",
    "        for var in variables:\n",
    "            if i < var[0]:\n",
    "                spl = round((var[1]/var[0])/n_propie, 2)\n",
    "                suple_var += spl\n",
    "        gasto_x_mes.append(suple_var)\n",
    "        suple_var = 0\n",
    "\n",
    "    # Calculating the total dues for each period\n",
    "    cuotas_total = []\n",
    "    for i in periodos:\n",
    "        cuotas_total.append(math.ceil(gasto_x_mes[i -1] + cuota))\n",
    "\n",
    "    # Returning the list of total dues\n",
    "    return cuotas_total"
   ]
  },
  {
   "cell_type": "markdown",
   "metadata": {},
   "source": [
    "Function to calculate monthly due based on projected expenses and savings:"
   ]
  },
  {
   "cell_type": "code",
   "execution_count": null,
   "metadata": {},
   "outputs": [],
   "source": [
    "\n",
    "def suma():\n",
    "    # Definition of initial variables\n",
    "    cuota_actual = 40  # Current due\n",
    "    n_propie = 10  # Number of owners\n",
    "    ahorro = 10000  # Total savings amount\n",
    "    fondos_iniciales = 1000  # Initial funds\n",
    "    anios = 5  # Number of years for the calculation\n",
    "\n",
    "    # Calculating total time in months and the actual expense\n",
    "    tiempo = anios * 12  # Total months\n",
    "    gasto_real = ahorro - fondos_iniciales  # Expense after deducting initial funds\n",
    "\n",
    "    # Calculating supplement per owner and the resulting due\n",
    "    suplemento = (gasto_real/tiempo)/n_propie\n",
    "    resultado = cuota_actual + suplemento\n",
    "\n",
    "    # Returning the resulting monthly due\n",
    "    return resultado"
   ]
  },
  {
   "cell_type": "markdown",
   "metadata": {},
   "source": [
    "<a id=\"ch4\"></a>\n",
    "# 3. Creating the app in Flask"
   ]
  },
  {
   "cell_type": "markdown",
   "metadata": {},
   "source": [
    "### 3.1 Deployed the calculator's API"
   ]
  },
  {
   "cell_type": "code",
   "execution_count": null,
   "metadata": {},
   "outputs": [],
   "source": [
    "from flask import Flask, request, jsonify\n",
    "import math\n",
    "from flask_cors import CORS\n",
    "\n",
    "# Define a function to calculate future expenses.\n",
    "def calculo_prev(*tuplas, n_propie, cuota):\n",
    "    # Sort tuples based on the first element of each tuple.\n",
    "    tuplas = sorted(tuplas, key=lambda x: x[0])\n",
    "\n",
    "    # Create a list of lists to store variables.\n",
    "    variables = [[] for _ in range(len(tuplas))]\n",
    "\n",
    "    # Iterate over elements in tuples and organize data.\n",
    "    for i in range(len(tuplas[0])):\n",
    "        valores = [t[i] for t in tuplas]\n",
    "        for j, valor in enumerate(valores):\n",
    "            variables[j].append(valor)\n",
    "\n",
    "    # Calculate the maximum number of months and prepare for calculations.\n",
    "    total_meses = 0\n",
    "    suple_var = 0\n",
    "    periodos = []\n",
    "    for var in variables:\n",
    "        periodos.append(var[0])\n",
    "        if var[0] > total_meses:\n",
    "            total_meses = var[0]\n",
    "\n",
    "    # Calculate monthly expenses.\n",
    "    gasto_x_mes = []\n",
    "    for i in range(total_meses):\n",
    "        for var in variables:\n",
    "            if i < var[0]:\n",
    "                spl = round((var[1]/var[0])/n_propie, 2)\n",
    "                suple_var += spl\n",
    "        gasto_x_mes.append(suple_var)\n",
    "        suple_var = 0\n",
    "\n",
    "    # Calculate total quotas.\n",
    "    cuotas_total = []\n",
    "    for i in periodos:\n",
    "        cuotas_total.append(math.ceil(gasto_x_mes[i - 1] + cuota))\n",
    "\n",
    "    return cuotas_total\n",
    "\n",
    "# Initialize Flask app and enable Cross-Origin Resource Sharing (CORS).\n",
    "app = Flask(__name__)\n",
    "CORS(app)\n",
    "\n",
    "# Define a route for the root URL to return a welcome message.\n",
    "@app.route('/', methods=['GET'])\n",
    "def Hello():\n",
    "    return 'Hello to the DS API'\n",
    "\n",
    "# Define a route for calculating the new quota.\n",
    "@app.route('/calculadora', methods=['POST'])\n",
    "def suma():\n",
    "    # Get data from the request's JSON body.\n",
    "    data = request.json\n",
    "\n",
    "    # Extract and calculate necessary variables.\n",
    "    cuota_actual = data['cuota']\n",
    "    n_propie = data['n_propietarios']\n",
    "    ahorro = data['ahorro']\n",
    "    fondos_iniciales = data['fondos']\n",
    "    anios = data['anios']\n",
    "\n",
    "    tiempo = anios * 12\n",
    "    gasto_real = ahorro - fondos_iniciales \n",
    "    suplemento = (gasto_real/tiempo)/n_propie\n",
    "    resultado = cuota_actual + ((gasto_real/tiempo)/n_propie)\n",
    "\n",
    "    # Return the calculated new quota in JSON format.\n",
    "    return jsonify({'Nueva cuota': resultado})\n",
    "\n",
    "# Define a route for calculating average future quotas.\n",
    "@app.route('/calculadora_previ', methods=['POST'])\n",
    "def calculadora_prevision():\n",
    "    # Get data from the request's JSON body.\n",
    "    data = request.json\n",
    "\n",
    "    # Process input data and call the calculation function.\n",
    "    tuplas = [(item['meses'], item['monto']) for item in data.get('tuplas', [])]\n",
    "    n_propie = int(data['n_propietarios'])\n",
    "    cuota = int(data['cuota'])\n",
    "\n",
    "    output = calculo_prev(*tuplas, n_propie=n_propie, cuota=cuota)\n",
    "    output = math.ceil(sum(output)/len(output))\n",
    "\n",
    "    # Return the average of new quotas in JSON format.\n",
    "    return jsonify({'Nueva/s cuota/s': output})\n",
    "\n",
    "# Run the app in debug mode on port 8000.\n",
    "if __name__ == \"__main__\":\n",
    "    app.run(debug=True, port=8000)\n"
   ]
  },
  {
   "cell_type": "markdown",
   "metadata": {},
   "source": [
    "### 3.2 ChatGPT API's prototype "
   ]
  },
  {
   "cell_type": "markdown",
   "metadata": {},
   "source": [
    "This script is a command-line based chatbot application that interacts with the OpenAI ChatGPT API. It allows users to have a conversation with the AI model in a loop. The script provides functionalities to start a new conversation or exit the application. User inputs and AI responses are managed in a conversational history. The rich library is used for displaying styled text and tables, while typer is employed for handling user input and command-line interactions. The key features include handling custom commands, maintaining session context, and dynamically interacting with the OpenAI API to generate responses."
   ]
  },
  {
   "cell_type": "code",
   "execution_count": null,
   "metadata": {},
   "outputs": [],
   "source": [
    "import openai  # pip install openai\n",
    "import typer  # pip install \"typer[all]\"\n",
    "from rich import print  # pip install rich\n",
    "from rich.table import Table\n",
    "\n",
    "def main():\n",
    "    # Set the OpenAI API key. Replace \"TU_API_KEY\" with your actual API key.\n",
    "    openai.api_key = \"TU_API_KEY creada en https://platform.openai.com\"\n",
    "\n",
    "    # Print a styled header using 'rich'.\n",
    "    print(\"💬 [bold green]ChatGPT API en Python[/bold green]\")\n",
    "\n",
    "    # Create and display a table with commands and their descriptions.\n",
    "    table = Table(\"Comando\", \"Descripción\")\n",
    "    table.add_row(\"exit\", \"Salir de la aplicación\")\n",
    "    table.add_row(\"new\", \"Crear una nueva conversación\")\n",
    "    print(table)\n",
    "\n",
    "    # Initialize the assistant's context.\n",
    "    context = {\"role\": \"system\", \"content\": \"Eres un asistente muy útil.\"}\n",
    "    messages = [context]\n",
    "\n",
    "    # Main loop for user interaction.\n",
    "    while True:\n",
    "        content = __prompt()  # Get user input.\n",
    "\n",
    "        # Handle 'new' command: reset conversation.\n",
    "        if content == \"new\":\n",
    "            print(\"🆕 Nueva conversación creada\")\n",
    "            messages = [context]\n",
    "            content = __prompt()\n",
    "\n",
    "        # Append user message to conversation history.\n",
    "        messages.append({\"role\": \"user\", \"content\": content})\n",
    "\n",
    "        # Send the conversation history to OpenAI and get a response.\n",
    "        response = openai.ChatCompletion.create(\n",
    "            model=\"gpt-3.5-turbo\", messages=messages)\n",
    "        response_content = response.choices[0].message.content\n",
    "\n",
    "        # Append the response to conversation history and print it.\n",
    "        messages.append({\"role\": \"assistant\", \"content\": response_content})\n",
    "        print(f\"[bold green]> [/bold green] [green]{response_content}[/green]\")\n",
    "\n",
    "# Function to prompt the user for input.\n",
    "def __prompt() -> str:\n",
    "    prompt = typer.prompt(\"\\n¿Sobre qué quieres hablar? \")\n",
    "\n",
    "    # Handle 'exit' command: confirm before exiting.\n",
    "    if prompt == \"exit\":\n",
    "        exit = typer.confirm(\"✋ ¿Estás seguro?\")\n",
    "        if exit:\n",
    "            print(\"👋 ¡Hasta luego!\")\n",
    "            raise typer.Abort()\n",
    "\n",
    "        return __prompt()\n",
    "\n",
    "    return prompt\n",
    "\n",
    "# Entry point for the script.\n",
    "if __name__ == \"__main__\":\n",
    "    typer.run(main)\n"
   ]
  },
  {
   "cell_type": "markdown",
   "metadata": {},
   "source": [
    "<a id=\"ch4\"></a>\n",
    "## 4. API Testing"
   ]
  },
  {
   "cell_type": "markdown",
   "metadata": {},
   "source": [
    "### 4.1 Savings calculator"
   ]
  },
  {
   "cell_type": "markdown",
   "metadata": {},
   "source": [
    "url = https://prueba-dev-xcjh.1.ie-1.fl0.io/calculadora\n",
    "\n",
    "\n",
    "DESIRED SAVINGS:\n",
    "\n",
    "```\n",
    "{\n",
    "    \"cuota\": 50,\n",
    "    \"n_propietarios\": 15,\n",
    "    \"ahorro\": 8000,\n",
    "    \"fondos\": 1500,\n",
    "    \"anios\": 5\n",
    "}\n",
    "```\n",
    "\n",
    "The calculator provides us with the new quota value required to achieve the desired savings within the specified time.\n",
    "\n",
    "It will return something similar to this:\n",
    "\n",
    "```\n",
    "{\n",
    "    \"Nueva cuota\":57.2\n",
    "}\n",
    "```\n"
   ]
  },
  {
   "cell_type": "markdown",
   "metadata": {},
   "source": [
    "### 4.2 Preventive cost calculator"
   ]
  },
  {
   "cell_type": "markdown",
   "metadata": {},
   "source": [
    "\n",
    "url = https://fl0-dev-tdfm.1.us-1.fl0.io//calculadora_previ\n",
    "\n",
    "\n",
    "FUTURE EXPENSES:\n",
    "\n",
    "```\n",
    "{\n",
    "  \"tuplas\": [\n",
    "    {\"años\": 1, \"monto\": 1000},\n",
    "    {\"años\": 3, \"monto\": 3000},\n",
    "    {\"años\": 5, \"monto\": 5000}\n",
    "  ],\n",
    "  \"n_propietarios\": 6,\n",
    "  \"cuota\": 50\n",
    "}\n",
    "```\n",
    "\n",
    "\n",
    "It returns the amount that each neighbor has to pay per month to cover each anticipated expense until the year of payment arrives.\n",
    "\n",
    "It will return something similar to this:\n",
    "\n",
    "```\n",
    "{\n",
    "    \"Nueva/s cuota/s\": 45.84\n",
    "}\n",
    "```\n"
   ]
  },
  {
   "cell_type": "markdown",
   "metadata": {},
   "source": [
    "## Credits"
   ]
  },
  {
   "cell_type": "markdown",
   "metadata": {},
   "source": [
    "Felipe Reus    |    Eliana Pinto    |    Diego Mateos    |    Alejandro Echevarria"
   ]
  }
 ],
 "metadata": {
  "kernelspec": {
   "display_name": "eda_env",
   "language": "python",
   "name": "python3"
  },
  "language_info": {
   "codemirror_mode": {
    "name": "ipython",
    "version": 3
   },
   "file_extension": ".py",
   "mimetype": "text/x-python",
   "name": "python",
   "nbconvert_exporter": "python",
   "pygments_lexer": "ipython3",
   "version": "3.9.18"
  }
 },
 "nbformat": 4,
 "nbformat_minor": 2
}
